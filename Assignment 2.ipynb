{
 "cells": [
  {
   "cell_type": "markdown",
   "metadata": {},
   "source": [
    "# FIT 5202 - Data processing for Big Data"
   ]
  },
  {
   "cell_type": "markdown",
   "metadata": {},
   "source": [
    "# Assignment - 02"
   ]
  },
  {
   "cell_type": "markdown",
   "metadata": {},
   "source": [
    "# Part A- Creating  Spark Session  and Loading the Data"
   ]
  },
  {
   "cell_type": "markdown",
   "metadata": {},
   "source": [
    "## Step 1: Import pyspark and initialize Spark"
   ]
  },
  {
   "cell_type": "code",
   "execution_count": 1,
   "metadata": {},
   "outputs": [],
   "source": [
    "from pyspark import SparkContext\n",
    "from pyspark.sql import SparkSession\n",
    "\n",
    "sc = SparkContext.getOrCreate()\n",
    "\n",
    "if (sc is None):\n",
    "    sc = SparkContext(master=\"local[4]\", appName=\"Assignment 2: Rain in Australia: Predict rain tomorrow in Australia\")\n",
    "spark = SparkSession(sparkContext=sc)"
   ]
  },
  {
   "cell_type": "markdown",
   "metadata": {},
   "source": [
    "## Step 2: Load the dataset and print the schema and total number of entries"
   ]
  },
  {
   "cell_type": "markdown",
   "metadata": {},
   "source": [
    "### Load Dataset and print schema:"
   ]
  },
  {
   "cell_type": "code",
   "execution_count": 2,
   "metadata": {},
   "outputs": [
    {
     "name": "stdout",
     "output_type": "stream",
     "text": [
      "root\n",
      " |-- Date: timestamp (nullable = true)\n",
      " |-- Location: string (nullable = true)\n",
      " |-- MinTemp: string (nullable = true)\n",
      " |-- MaxTemp: string (nullable = true)\n",
      " |-- Rainfall: string (nullable = true)\n",
      " |-- Evaporation: string (nullable = true)\n",
      " |-- Sunshine: string (nullable = true)\n",
      " |-- WindGustDir: string (nullable = true)\n",
      " |-- WindGustSpeed: string (nullable = true)\n",
      " |-- WindDir9am: string (nullable = true)\n",
      " |-- WindDir3pm: string (nullable = true)\n",
      " |-- WindSpeed9am: string (nullable = true)\n",
      " |-- WindSpeed3pm: string (nullable = true)\n",
      " |-- Humidity9am: string (nullable = true)\n",
      " |-- Humidity3pm: string (nullable = true)\n",
      " |-- Pressure9am: string (nullable = true)\n",
      " |-- Pressure3pm: string (nullable = true)\n",
      " |-- Cloud9am: string (nullable = true)\n",
      " |-- Cloud3pm: string (nullable = true)\n",
      " |-- Temp9am: string (nullable = true)\n",
      " |-- Temp3pm: string (nullable = true)\n",
      " |-- RainToday: string (nullable = true)\n",
      " |-- RainTomorrow: string (nullable = true)\n",
      "\n"
     ]
    }
   ],
   "source": [
    "df = spark.read.csv(\"weatherAUS.csv\", sep = \",\", inferSchema=True, header=True)\n",
    "df.printSchema()"
   ]
  },
  {
   "cell_type": "markdown",
   "metadata": {},
   "source": [
    "### Total Number of Entries in the dataset:"
   ]
  },
  {
   "cell_type": "code",
   "execution_count": 3,
   "metadata": {},
   "outputs": [
    {
     "name": "stdout",
     "output_type": "stream",
     "text": [
      "Total Number of entries in the dataset: 142193 entries\n"
     ]
    }
   ],
   "source": [
    "print(\"Total Number of entries in the dataset: {0} entries\".format(df.count()))"
   ]
  },
  {
   "cell_type": "markdown",
   "metadata": {},
   "source": [
    "# Part B- Data Cleaning and Processing"
   ]
  },
  {
   "cell_type": "markdown",
   "metadata": {},
   "source": [
    "## Step 3: Delete columns for dataset"
   ]
  },
  {
   "cell_type": "code",
   "execution_count": 4,
   "metadata": {},
   "outputs": [],
   "source": [
    "df = df.drop(\"Date\", \"Location\", \"Evaporation\", \"Sunshine\", \"Cloud9am\", \"Cloud3pm\", \"Temp9am\", \"Temp3pm\")"
   ]
  },
  {
   "cell_type": "markdown",
   "metadata": {},
   "source": [
    "## Step 4: Print the number of missing data in each column."
   ]
  },
  {
   "cell_type": "code",
   "execution_count": 5,
   "metadata": {},
   "outputs": [
    {
     "name": "stdout",
     "output_type": "stream",
     "text": [
      "Number of null values in each columns: \n",
      "\t MinTemp  : 637\n",
      "\t MaxTemp  : 322\n",
      "\t Rainfall  : 1406\n",
      "\t WindGustDir  : 9330\n",
      "\t WindGustSpeed  : 9270\n",
      "\t WindDir9am  : 10013\n",
      "\t WindDir3pm  : 3778\n",
      "\t WindSpeed9am  : 1348\n",
      "\t WindSpeed3pm  : 2630\n",
      "\t Humidity9am  : 1774\n",
      "\t Humidity3pm  : 3610\n",
      "\t Pressure9am  : 14014\n",
      "\t Pressure3pm  : 13981\n",
      "\t RainToday  : 1406\n",
      "\t RainTomorrow  : 0\n"
     ]
    }
   ],
   "source": [
    "print(\"Number of null values in each columns: \")\n",
    "def countNull(forNullCountDf):\n",
    "    i = 0\n",
    "    for x in forNullCountDf.columns:\n",
    "        print(\"\\t\",forNullCountDf.columns[i], ' :', forNullCountDf.filter(forNullCountDf[forNullCountDf.columns[i]] == 'NA').count())\n",
    "        i += 1\n",
    "countNull(df)"
   ]
  },
  {
   "cell_type": "markdown",
   "metadata": {},
   "source": [
    "## Step 5: Fill the missing data with average value and maximum occurrence value"
   ]
  },
  {
   "cell_type": "code",
   "execution_count": 6,
   "metadata": {},
   "outputs": [],
   "source": [
    "from pyspark.sql.functions import when\n",
    "newestDf = df\n",
    "\n",
    "avgDf = df.agg({x : \"avg\" for x in df.columns})\n",
    "rAvgDf = avgDf.drop(\"avg(RainTomorrow)\", \"avg(RainToday)\", \"avg(WindDir9am)\", \"avg(WindDir3pm)\", \"avg(WindGustDir)\")\n",
    "avgValues = rAvgDf.collect()[0]\n",
    "\n",
    "# helps to return the average of a column using rAvgDf dataframe.\n",
    "def findAvg(colName):\n",
    "    column = \"avg(\" + colName + \")\"\n",
    "    return avgValues[column]\n",
    "\n",
    "# helps to change the \"NA\" values to average of corresponding columns.\n",
    "def changeNulls(colName, toChangeDf):\n",
    "    updatedDf = toChangeDf.withColumn(colName, when(toChangeDf[colName] == 'NA', findAvg(colName)).otherwise(toChangeDf[colName]))\n",
    "    return updatedDf\n",
    "\n",
    "\n",
    "# just a proff check method to check weather the NA values are changed with the average of that column or not.\n",
    "# def x(colNamee, toViewDf):\n",
    "#     i = 0\n",
    "#     for x in toViewDf.columns:\n",
    "#         print(toViewDf.columns[i], ' :', toViewDf.filter(toViewDf[toViewDf.columns[i]] == findAvg(colNamee)).count())\n",
    "#         i += 1\n",
    "\n",
    "\n",
    "# a method that is substitute of changeNulls method, helps to run more effeciently\n",
    "def changeNullwithAvg(colName, dFrame):\n",
    "    updatedDataFrame = changeNulls(colName, dFrame)\n",
    "    return updatedDataFrame\n",
    "\n",
    "\n"
   ]
  },
  {
   "cell_type": "code",
   "execution_count": 7,
   "metadata": {},
   "outputs": [],
   "source": [
    "numaricColums = [\"MinTemp\", \"MaxTemp\", \"Rainfall\", \"WindGustSpeed\", \"WindSpeed9am\", \"WindSpeed3pm\" , \"Humidity9am\", \"Humidity3pm\", \"Pressure9am\", \"Pressure3pm\"]\n",
    "\n",
    "# A for loop to apply changeNullwithAvg to all numaric columns of dataframe\n",
    "for i in numaricColums:\n",
    "    newestDf = changeNullwithAvg(i, newestDf)"
   ]
  },
  {
   "cell_type": "code",
   "execution_count": 8,
   "metadata": {},
   "outputs": [],
   "source": [
    "from pyspark.sql.functions import desc\n",
    "\n",
    "# A method to find out the most frequent item of a column\n",
    "def maxOcc(s):\n",
    "    return df.groupBy(s).count().sort(desc(\"count\")).collect()[0][0]"
   ]
  },
  {
   "cell_type": "code",
   "execution_count": 9,
   "metadata": {},
   "outputs": [],
   "source": [
    "# helps to change NA values to maximum value of that column.\n",
    "def changeNullsString(colName, toChangeDf):\n",
    "    updatedDf = toChangeDf.withColumn(colName, when(toChangeDf[colName] == 'NA', maxOcc(colName)).otherwise(toChangeDf[colName]))\n",
    "    return updatedDf"
   ]
  },
  {
   "cell_type": "code",
   "execution_count": 10,
   "metadata": {},
   "outputs": [],
   "source": [
    "nonNumaricColumns = [\"WindGustDir\", \"WindDir9am\", \"WindDir3pm\", \"RainToday\", \"RainTomorrow\"]\n",
    "\n",
    "# for loop to run changeNullsString method for every non numaric columns of dataframe.\n",
    "for j in nonNumaricColumns:\n",
    "    newestDf = changeNullsString(j, newestDf)"
   ]
  },
  {
   "cell_type": "code",
   "execution_count": 11,
   "metadata": {},
   "outputs": [],
   "source": [
    "# to print cleaned dataframe\n",
    "# newestDf.show()"
   ]
  },
  {
   "cell_type": "markdown",
   "metadata": {},
   "source": [
    "## Step 6: Data transformation"
   ]
  },
  {
   "cell_type": "markdown",
   "metadata": {},
   "source": [
    "### Conducting type casting for numeric columns."
   ]
  },
  {
   "cell_type": "code",
   "execution_count": 12,
   "metadata": {},
   "outputs": [],
   "source": [
    "from pyspark.sql.types import DoubleType\n",
    "\n",
    "for i in numaricColums:\n",
    "    updatedDataframe = newestDf.withColumn(i, newestDf[i].cast(DoubleType()))\n",
    "    newestDf = updatedDataframe"
   ]
  },
  {
   "cell_type": "markdown",
   "metadata": {},
   "source": [
    "### Using string indexer to convert non-numerical values into numbers."
   ]
  },
  {
   "cell_type": "code",
   "execution_count": 13,
   "metadata": {},
   "outputs": [],
   "source": [
    "from pyspark.ml.feature import StringIndexer\n",
    "\n",
    "for i in nonNumaricColumns:\n",
    "    l_indexer = StringIndexer(inputCol=i, outputCol= i + 'Index')\n",
    "    transformedDf = l_indexer.fit(newestDf).transform(newestDf)\n",
    "    newestDf = transformedDf.drop(i)"
   ]
  },
  {
   "cell_type": "code",
   "execution_count": 14,
   "metadata": {
    "scrolled": true
   },
   "outputs": [],
   "source": [
    "# to print updated dataframe\n",
    "# newestDf.printSchema()"
   ]
  },
  {
   "cell_type": "markdown",
   "metadata": {},
   "source": [
    "## Step 7: Create feature vector and divide the dataset"
   ]
  },
  {
   "cell_type": "markdown",
   "metadata": {},
   "source": [
    "Creating feature vector from given columns:"
   ]
  },
  {
   "cell_type": "code",
   "execution_count": 15,
   "metadata": {},
   "outputs": [],
   "source": [
    "from pyspark.ml.linalg import Vectors\n",
    "from pyspark.ml.feature import VectorAssembler\n",
    "\n",
    "# filteredColumns is list of columns of the updated dataframe without the RainTomorrowIndex column. \n",
    "filteredColumns = [i for i in newestDf.columns if i != 'RainTomorrowIndex']\n",
    "\n",
    "vecAssembler = VectorAssembler(inputCols = filteredColumns, outputCol='Features')\n",
    "\n",
    "tempDf = vecAssembler.transform(newestDf)"
   ]
  },
  {
   "cell_type": "markdown",
   "metadata": {},
   "source": [
    "### Splitting the dataset into two:"
   ]
  },
  {
   "cell_type": "code",
   "execution_count": 16,
   "metadata": {},
   "outputs": [],
   "source": [
    "(trainingData, testData) = tempDf.randomSplit([0.7, 0.3])"
   ]
  },
  {
   "cell_type": "markdown",
   "metadata": {},
   "source": [
    "## Step 8: Apply Machine Learning Algorithms on dataset and compare their accuracy"
   ]
  },
  {
   "cell_type": "markdown",
   "metadata": {},
   "source": [
    "### Using Decision Tree Classifier:"
   ]
  },
  {
   "cell_type": "code",
   "execution_count": 17,
   "metadata": {},
   "outputs": [
    {
     "name": "stdout",
     "output_type": "stream",
     "text": [
      "+----------+-----------------+\n",
      "|prediction|RainTomorrowIndex|\n",
      "+----------+-----------------+\n",
      "|       0.0|              0.0|\n",
      "|       0.0|              0.0|\n",
      "|       1.0|              0.0|\n",
      "|       0.0|              0.0|\n",
      "|       0.0|              0.0|\n",
      "+----------+-----------------+\n",
      "only showing top 5 rows\n",
      "\n",
      "Accuracy using Decision Tree Classifier: 0.8359824225141415\n"
     ]
    }
   ],
   "source": [
    "from pyspark.ml.classification import DecisionTreeClassifier\n",
    "\n",
    "from pyspark.ml.evaluation import MulticlassClassificationEvaluator\n",
    "\n",
    "dt = DecisionTreeClassifier(labelCol = 'RainTomorrowIndex', featuresCol=\"Features\")\n",
    "model = dt.fit(trainingData)\n",
    "\n",
    "predictionsDT = model.transform(testData)\n",
    "\n",
    "predictionsDT.select(\"prediction\", \"RainTomorrowIndex\").show(5)\n",
    "\n",
    "evaluator = MulticlassClassificationEvaluator(\\\n",
    "\n",
    "labelCol=\"RainTomorrowIndex\", predictionCol=\"prediction\",\\\n",
    "\n",
    "metricName=\"accuracy\")\n",
    "\n",
    "accuracyDT = evaluator.evaluate(predictionsDT)\n",
    "\n",
    "print(\"Accuracy using Decision Tree Classifier: \" + str(accuracyDT))"
   ]
  },
  {
   "cell_type": "markdown",
   "metadata": {},
   "source": [
    "### Using Random Forest Classifier:"
   ]
  },
  {
   "cell_type": "code",
   "execution_count": 18,
   "metadata": {},
   "outputs": [
    {
     "name": "stdout",
     "output_type": "stream",
     "text": [
      "+----------+-----------------+\n",
      "|prediction|RainTomorrowIndex|\n",
      "+----------+-----------------+\n",
      "|       0.0|              0.0|\n",
      "|       0.0|              0.0|\n",
      "|       1.0|              0.0|\n",
      "|       0.0|              0.0|\n",
      "|       0.0|              0.0|\n",
      "+----------+-----------------+\n",
      "only showing top 5 rows\n",
      "\n",
      "Accuracy using Random Forest Classifier: 0.8300920948062269\n"
     ]
    }
   ],
   "source": [
    "from pyspark.ml.classification import RandomForestClassifier\n",
    "\n",
    "rf = RandomForestClassifier(labelCol=\"RainTomorrowIndex\",\\\n",
    "featuresCol=\"Features\", numTrees=10)\n",
    "\n",
    "model = rf.fit(trainingData)\n",
    "\n",
    "predictionsRF = model.transform(testData)\n",
    "\n",
    "predictionsRF.select(\"prediction\", \"RainTomorrowIndex\").show(5)\n",
    "\n",
    "evaluator =\\\n",
    "MulticlassClassificationEvaluator(labelCol=\"RainTomorrowIndex\",\\\n",
    "predictionCol=\"prediction\", metricName=\"accuracy\")\n",
    "\n",
    "accuracyRF = evaluator.evaluate(predictionsRF)\n",
    "print(\"Accuracy using Random Forest Classifier: \" + str(accuracyRF))\n"
   ]
  },
  {
   "cell_type": "markdown",
   "metadata": {},
   "source": [
    "### Using Logistic Regression Classifier:"
   ]
  },
  {
   "cell_type": "code",
   "execution_count": 19,
   "metadata": {},
   "outputs": [
    {
     "name": "stdout",
     "output_type": "stream",
     "text": [
      "+----------+-----------------+\n",
      "|prediction|RainTomorrowIndex|\n",
      "+----------+-----------------+\n",
      "|       0.0|              0.0|\n",
      "|       0.0|              0.0|\n",
      "|       1.0|              0.0|\n",
      "|       0.0|              0.0|\n",
      "|       0.0|              0.0|\n",
      "+----------+-----------------+\n",
      "only showing top 5 rows\n",
      "\n",
      "Accuracy using Logistic Regression Classifier: 0.808287253634663\n"
     ]
    }
   ],
   "source": [
    "from pyspark.ml.classification import LogisticRegression\n",
    "from pyspark.ml.evaluation import BinaryClassificationEvaluator\n",
    "\n",
    "lr = LogisticRegression(featuresCol = 'Features', labelCol = 'RainTomorrowIndex',    maxIter=10)\n",
    "lrModel = lr.fit(trainingData)\n",
    "predictionsLR = lrModel.transform(testData)\n",
    "predictionsLR.select(\"prediction\", \"RainTomorrowIndex\").show(5)\n",
    "evaluator = BinaryClassificationEvaluator(labelCol='RainTomorrowIndex')\n",
    "accuracyLR = evaluator.evaluate(predictionsLR)\n",
    "\n",
    "print(\"Accuracy using Logistic Regression Classifier: \" + str(accuracyLR))\n"
   ]
  },
  {
   "cell_type": "markdown",
   "metadata": {},
   "source": [
    "### Using GBT Classifier:"
   ]
  },
  {
   "cell_type": "code",
   "execution_count": 20,
   "metadata": {},
   "outputs": [
    {
     "name": "stdout",
     "output_type": "stream",
     "text": [
      "+----------+-----------------+\n",
      "|prediction|RainTomorrowIndex|\n",
      "+----------+-----------------+\n",
      "|       0.0|              0.0|\n",
      "|       0.0|              0.0|\n",
      "|       0.0|              0.0|\n",
      "|       0.0|              0.0|\n",
      "|       0.0|              0.0|\n",
      "+----------+-----------------+\n",
      "only showing top 5 rows\n",
      "\n",
      "Accuracy using GBT Classifier: 0.8536453826474965\n"
     ]
    }
   ],
   "source": [
    "from pyspark.ml.classification import GBTClassifier\n",
    "\n",
    "\n",
    "gbt = GBTClassifier(featuresCol = 'Features', labelCol = 'RainTomorrowIndex', maxIter=10)\n",
    "gbtModel = gbt.fit(trainingData)\n",
    "predictionsGBT = gbtModel.transform(testData)\n",
    "predictionsGBT.select(\"prediction\", \"RainTomorrowIndex\").show(5)\n",
    "\n",
    "\n",
    "\n",
    "evaluator = BinaryClassificationEvaluator(labelCol='RainTomorrowIndex')\n",
    "# print(\"Test Area Under ROC: \" + str(evaluator.evaluate(predictionsGBT, {evaluator.metricName: \"areaUnderROC\"})))\n",
    "accuracyGBT = (evaluator.evaluate(predictionsGBT, {evaluator.metricName: \"areaUnderROC\"}))\n",
    "\n",
    "print(\"Accuracy using GBT Classifier: \" + str(accuracyGBT))\n"
   ]
  },
  {
   "cell_type": "markdown",
   "metadata": {},
   "source": [
    "### Plot the accuracy as bar graph"
   ]
  },
  {
   "cell_type": "code",
   "execution_count": 21,
   "metadata": {},
   "outputs": [],
   "source": [
    "from pyspark.sql.functions import year, month, dayofweek\n",
    "import matplotlib.pyplot as plt\n",
    "import numpy as np\n",
    "%matplotlib inline"
   ]
  },
  {
   "cell_type": "code",
   "execution_count": 22,
   "metadata": {},
   "outputs": [
    {
     "data": {
      "image/png": "[encoded data removed]",
      "text/plain": [
       "<Figure size 960x640 with 1 Axes>"
      ]
     },
     "metadata": {},
     "output_type": "display_data"
    }
   ],
   "source": [
    "# temp_count_y = crime_df.groupBy(year('Reported Date_').alias('year')).sum().withColumnRenamed('sum(Offence Count)','y_count').orderBy('Year').collect()\n",
    "# # plot\n",
    "plt.figure(figsize=(12,8), dpi=80, facecolor='w', edgecolor='k')\n",
    "\n",
    "bar_width = 0.5\n",
    "objects = [\"Decision Tree\", \"Random Forest\", \"Logistic Regression\", \"GBT\"]\n",
    "y_axis = [accuracyDT, accuracyRF, accuracyLR, accuracyGBT]\n",
    "y_pos = np.arange(len(objects))\n",
    "\n",
    "plt.bar(y_pos, y_axis, bar_width, align='center', color='r')\n",
    "plt.xticks(y_pos, objects, rotation='vertical', fontsize=16)\n",
    "plt.yticks(fontsize=16)\n",
    "plt.xlabel('Machine Learning Algorithms', fontsize=18)\n",
    "plt.ylim([0.75,0.90])\n",
    "plt.ylabel('Predictions', fontsize=18)\n",
    "plt.title('Bar Chart Demonstrating the accuracy of Different Machine Learning Algorithms', fontsize=22, pad=20)\n",
    "plt.show()"
   ]
  },
  {
   "cell_type": "markdown",
   "metadata": {},
   "source": [
    "## Step 9: Calculate confusion matrix and find precision, recall and F1 score of each algoritm. Explain how the accuracy of the prediction can be improved."
   ]
  },
  {
   "cell_type": "markdown",
   "metadata": {},
   "source": [
    "### Confusion matrix and corresponding precision, recall and F1 score of Decision Tree Classifier"
   ]
  },
  {
   "cell_type": "code",
   "execution_count": 23,
   "metadata": {},
   "outputs": [
    {
     "name": "stdout",
     "output_type": "stream",
     "text": [
      "Confusion Matrix for Decision Tree Classifier: \n",
      "+----------+-----------------+-----+\n",
      "|prediction|RainTomorrowIndex|count|\n",
      "+----------+-----------------+-----+\n",
      "|       1.0|              1.0| 4018|\n",
      "|       0.0|              1.0| 5677|\n",
      "|       1.0|              0.0| 1340|\n",
      "|       0.0|              0.0|31747|\n",
      "+----------+-----------------+-----+\n",
      "\n",
      "\tTrue Positive Count:  4018\n",
      "\tFalse Negitive Count:  5677\n",
      "\tFalse Positive Count:  1340\n",
      "\tTrue Negative Count:  31747\n",
      "\n",
      "Precesion, Recall and F1 Score of Decision Tree Classifier: \n",
      "\n",
      "\tPrecision : 0.7499066815976111\n",
      "\tRecall : 0.4144404332129964\n",
      "\tF1 Score : 0.533847073673022\n"
     ]
    }
   ],
   "source": [
    "DecisionTreeCM = predictionsDT.groupBy('prediction','RainTomorrowIndex').count()\n",
    "print(\"Confusion Matrix for Decision Tree Classifier: \")\n",
    "DecisionTreeCM.show()\n",
    "\n",
    "\n",
    "TruePosDT = DecisionTreeCM.filter(DecisionTreeCM.prediction ==1).filter(DecisionTreeCM.RainTomorrowIndex ==1).collect()[0][2]\n",
    "FalseNegDT = DecisionTreeCM.filter(DecisionTreeCM.prediction ==0).filter(DecisionTreeCM.RainTomorrowIndex ==1).collect()[0][2]\n",
    "FalsePosDT = DecisionTreeCM.filter(DecisionTreeCM.prediction ==1).filter(DecisionTreeCM.RainTomorrowIndex ==0).collect()[0][2]\n",
    "TrueNegDT = DecisionTreeCM.filter(DecisionTreeCM.prediction ==0).filter(DecisionTreeCM.RainTomorrowIndex ==0).collect()[0][2]\n",
    "\n",
    "PrecisionDT = TruePosDT / (TruePosDT + FalsePosDT)\n",
    "RecallDT = TruePosDT / (TruePosDT + FalseNegDT)\n",
    "F1DT = 2*((PrecisionDT*RecallDT)/(PrecisionDT+RecallDT))\n",
    "\n",
    "\n",
    "print(\"\\tTrue Positive Count: \", TruePosDT)\n",
    "print(\"\\tFalse Negitive Count: \", FalseNegDT)\n",
    "print(\"\\tFalse Positive Count: \", FalsePosDT)\n",
    "print(\"\\tTrue Negative Count: \", TrueNegDT)\n",
    "print(\"\")\n",
    "print(\"Precesion, Recall and F1 Score of Decision Tree Classifier: \")\n",
    "print(\"\")\n",
    "print(\"\\tPrecision :\", PrecisionDT)\n",
    "print(\"\\tRecall :\", RecallDT)\n",
    "print(\"\\tF1 Score :\", F1DT)\n"
   ]
  },
  {
   "cell_type": "markdown",
   "metadata": {},
   "source": [
    "### Confusion matrix and corresponding precision, recall and F1 score of Random Forest Classifier"
   ]
  },
  {
   "cell_type": "code",
   "execution_count": 24,
   "metadata": {},
   "outputs": [
    {
     "name": "stdout",
     "output_type": "stream",
     "text": [
      "Confusion Matrix for Random Forest Classifier: \n",
      "+----------+-----------------+-----+\n",
      "|prediction|RainTomorrowIndex|count|\n",
      "+----------+-----------------+-----+\n",
      "|       1.0|              1.0| 3404|\n",
      "|       0.0|              1.0| 6291|\n",
      "|       1.0|              0.0|  978|\n",
      "|       0.0|              0.0|32109|\n",
      "+----------+-----------------+-----+\n",
      "\n",
      "\tTrue Positive Count:  3404\n",
      "\tFalse Negitive Count:  6291\n",
      "\tFalse Positive Count:  978\n",
      "\tTrue Negative Count:  32109\n",
      "\n",
      "Precesion, Recall and F1 Score of Random Forest Classifier: \n",
      "\n",
      "\tPrecision : 0.776814240073026\n",
      "\tRecall : 0.3511088189788551\n",
      "\tF1 Score : 0.48362577253676203\n"
     ]
    }
   ],
   "source": [
    "RandomForestCM = predictionsRF.groupBy('prediction','RainTomorrowIndex').count()\n",
    "print(\"Confusion Matrix for Random Forest Classifier: \")\n",
    "RandomForestCM.show()\n",
    "\n",
    "TruePosRF = RandomForestCM.filter(RandomForestCM.prediction ==1).filter(RandomForestCM.RainTomorrowIndex ==1).collect()[0][2]\n",
    "FalseNegRF = RandomForestCM.filter(RandomForestCM.prediction ==0).filter(RandomForestCM.RainTomorrowIndex ==1).collect()[0][2]\n",
    "FalsePosRF = RandomForestCM.filter(RandomForestCM.prediction ==1).filter(RandomForestCM.RainTomorrowIndex ==0).collect()[0][2]\n",
    "TrueNegRF = RandomForestCM.filter(RandomForestCM.prediction ==0).filter(RandomForestCM.RainTomorrowIndex ==0).collect()[0][2]\n",
    "\n",
    "PrecisionRF = TruePosRF / (TruePosRF + FalsePosRF)\n",
    "RecallRF = TruePosRF / (TruePosRF + FalseNegRF)\n",
    "F1RF = 2*((PrecisionRF*RecallRF)/(PrecisionRF+RecallRF))\n",
    "\n",
    "print(\"\\tTrue Positive Count: \", TruePosRF)\n",
    "print(\"\\tFalse Negitive Count: \", FalseNegRF)\n",
    "print(\"\\tFalse Positive Count: \", FalsePosRF)\n",
    "print(\"\\tTrue Negative Count: \", TrueNegRF)\n",
    "print(\"\")\n",
    "print(\"Precesion, Recall and F1 Score of Random Forest Classifier: \")\n",
    "print(\"\")\n",
    "print(\"\\tPrecision :\", PrecisionRF)\n",
    "print(\"\\tRecall :\", RecallRF)\n",
    "print(\"\\tF1 Score :\", F1RF)"
   ]
  },
  {
   "cell_type": "markdown",
   "metadata": {},
   "source": [
    "### Confusion matrix and corresponding precision, recall and F1 score of Logistic Regression Classifier"
   ]
  },
  {
   "cell_type": "code",
   "execution_count": 25,
   "metadata": {},
   "outputs": [
    {
     "name": "stdout",
     "output_type": "stream",
     "text": [
      "Confusion Matrix for Logistic Regression Classifier: \n",
      "+----------+-----------------+-----+\n",
      "|prediction|RainTomorrowIndex|count|\n",
      "+----------+-----------------+-----+\n",
      "|       1.0|              1.0| 3985|\n",
      "|       0.0|              1.0| 5710|\n",
      "|       1.0|              0.0| 2215|\n",
      "|       0.0|              0.0|30872|\n",
      "+----------+-----------------+-----+\n",
      "\n",
      "\tTrue Positive Count:  3985\n",
      "\tFalse Negitive Count:  5710\n",
      "\tFalse Positive Count:  2215\n",
      "\tTrue Negative Count:  30872\n",
      "\n",
      "Precesion, Recall and F1 Score of Logistic Regression Classifier: \n",
      "\n",
      "\tPrecision : 0.6427419354838709\n",
      "\tRecall : 0.4110366168127901\n",
      "\tF1 Score : 0.5014155394778232\n"
     ]
    }
   ],
   "source": [
    "LogisticRegressionCM = predictionsLR.groupBy('prediction','RainTomorrowIndex').count()\n",
    "\n",
    "print(\"Confusion Matrix for Logistic Regression Classifier: \")\n",
    "LogisticRegressionCM.show()\n",
    "\n",
    "TruePosLR = LogisticRegressionCM.filter(LogisticRegressionCM.prediction ==1).filter(LogisticRegressionCM.RainTomorrowIndex ==1).collect()[0][2]\n",
    "FalseNegLR = LogisticRegressionCM.filter(LogisticRegressionCM.prediction ==0).filter(LogisticRegressionCM.RainTomorrowIndex ==1).collect()[0][2]\n",
    "FalsePosLR = LogisticRegressionCM.filter(LogisticRegressionCM.prediction ==1).filter(LogisticRegressionCM.RainTomorrowIndex ==0).collect()[0][2]\n",
    "TrueNegLR = LogisticRegressionCM.filter(LogisticRegressionCM.prediction ==0).filter(LogisticRegressionCM.RainTomorrowIndex ==0).collect()[0][2]\n",
    "\n",
    "PrecisionLR = TruePosLR / (TruePosLR + FalsePosLR)\n",
    "RecallLR = TruePosLR / (TruePosLR + FalseNegLR)\n",
    "F1LR = 2*((PrecisionLR*RecallLR)/(PrecisionLR+RecallLR))\n",
    "\n",
    "print(\"\\tTrue Positive Count: \", TruePosLR)\n",
    "print(\"\\tFalse Negitive Count: \", FalseNegLR)\n",
    "print(\"\\tFalse Positive Count: \", FalsePosLR)\n",
    "print(\"\\tTrue Negative Count: \", TrueNegLR)\n",
    "print(\"\")\n",
    "print(\"Precesion, Recall and F1 Score of Logistic Regression Classifier: \")\n",
    "print(\"\")\n",
    "print(\"\\tPrecision :\", PrecisionLR)\n",
    "print(\"\\tRecall :\", RecallLR)\n",
    "print(\"\\tF1 Score :\", F1LR)"
   ]
  },
  {
   "cell_type": "markdown",
   "metadata": {},
   "source": [
    "### Confusion matrix and corresponding precision, recall and F1 score of GBT Classifier"
   ]
  },
  {
   "cell_type": "code",
   "execution_count": 26,
   "metadata": {},
   "outputs": [
    {
     "name": "stdout",
     "output_type": "stream",
     "text": [
      "Confusion Matrix for GBT Classifier: \n",
      "+----------+-----------------+-----+\n",
      "|prediction|RainTomorrowIndex|count|\n",
      "+----------+-----------------+-----+\n",
      "|       1.0|              1.0| 4357|\n",
      "|       0.0|              1.0| 5338|\n",
      "|       1.0|              0.0| 1539|\n",
      "|       0.0|              0.0|31548|\n",
      "+----------+-----------------+-----+\n",
      "\n",
      "\tTrue Positive Count:  4357\n",
      "\tFalse Negitive Count:  5338\n",
      "\tFalse Positive Count:  1539\n",
      "\tTrue Negative Count:  31548\n",
      "\n",
      "Precesion, Recall and F1 Score of GBT Classifier: \n",
      "\n",
      "\tPrecision : 0.7389755766621439\n",
      "\tRecall : 0.44940691077875194\n",
      "\tF1 Score : 0.5589121929318196\n"
     ]
    }
   ],
   "source": [
    "GBTCM = predictionsGBT.groupBy('prediction','RainTomorrowIndex').count()\n",
    "\n",
    "print(\"Confusion Matrix for GBT Classifier: \")\n",
    "GBTCM.show()\n",
    "\n",
    "\n",
    "TruePosGBT = GBTCM.filter(GBTCM.prediction ==1).filter(GBTCM.RainTomorrowIndex ==1).collect()[0][2]\n",
    "FalseNegGBT = GBTCM.filter(GBTCM.prediction ==0).filter(GBTCM.RainTomorrowIndex ==1).collect()[0][2]\n",
    "FalsePosGBT = GBTCM.filter(GBTCM.prediction ==1).filter(GBTCM.RainTomorrowIndex ==0).collect()[0][2]\n",
    "TrueNegGBT = GBTCM.filter(GBTCM.prediction ==0).filter(GBTCM.RainTomorrowIndex ==0).collect()[0][2]\n",
    "\n",
    "PrecisionGBT = TruePosGBT / (TruePosGBT + FalsePosGBT)\n",
    "RecallGBT = TruePosGBT / (TruePosGBT + FalseNegGBT)\n",
    "F1GBT = 2*((PrecisionGBT*RecallGBT)/(PrecisionGBT+RecallGBT))\n",
    "\n",
    "print(\"\\tTrue Positive Count: \", TruePosGBT)\n",
    "print(\"\\tFalse Negitive Count: \", FalseNegGBT)\n",
    "print(\"\\tFalse Positive Count: \", FalsePosGBT)\n",
    "print(\"\\tTrue Negative Count: \", TrueNegGBT)\n",
    "print(\"\")\n",
    "print(\"Precesion, Recall and F1 Score of GBT Classifier: \")\n",
    "print(\"\")\n",
    "print(\"\\tPrecision :\", PrecisionGBT)\n",
    "print(\"\\tRecall :\", RecallGBT)\n",
    "print(\"\\tF1 Score :\", F1GBT)"
   ]
  },
  {
   "cell_type": "markdown",
   "metadata": {},
   "source": [
    "### How to improve the accuracy of the prediction:"
   ]
  },
  {
   "cell_type": "markdown",
   "metadata": {},
   "source": [
    "Machine Learning Algorithm can be improved with Hyperparameter Tuning, Ensemble Methods and Feature Engineering methods (Seif 2018).\n",
    "   \n",
    "    1.  Hyperparameter Tuning: \n",
    "        Learned parameters are always changing and updated in the training phase. Setting accurate hyperparameter in the model helps to get more optimal values with given data.\n",
    "    2.  Ensemble Methods: \n",
    "        Machine learning technique that uses multiple predictions of different model is known as ensemble method. With ensemble methods the results are more accurate than any single prediction.\n",
    "    3.  Feature Engineering: \n",
    "        Feature engineering ensures that the model gets only the most optimal features from the input. By applying feature engineering the model uses the data that consistently gives accurate prediction, as a result the model does not have to deal with the extra noise that comes from the other features.\n",
    "\n",
    "References:\n",
    "\n",
    "\n",
    "    Seif, G. (2018). 3 ways to improve your Machine Learning results without more data. Retrieved from https://towardsdatascience.com/3-ways-to-improve-your-machine-learning-results-without-more-data-f2f0fe78976e"
   ]
  }
 ],
 "metadata": {
  "kernelspec": {
   "display_name": "Python 3",
   "language": "python",
   "name": "python3"
  },
  "language_info": {
   "codemirror_mode": {
    "name": "ipython",
    "version": 3
   },
   "file_extension": ".py",
   "mimetype": "text/x-python",
   "name": "python",
   "nbconvert_exporter": "python",
   "pygments_lexer": "ipython3",
   "version": "3.6.8"
  }
 },
 "nbformat": 4,
 "nbformat_minor": 2
}
